{
 "cells": [
  {
   "cell_type": "code",
   "execution_count": 1,
   "id": "49975ccd",
   "metadata": {},
   "outputs": [],
   "source": [
    "import pandas as pd\n",
    "import numpy as np\n",
    "import matplotlib.pyplot as plt\n",
    "import time\n",
    "\n",
    "from fredapi import Fred\n",
    "fred_key = '170531604ba9e3b805b9635fbd6aa9b7'"
   ]
  },
  {
   "cell_type": "code",
   "execution_count": 2,
   "id": "73f367be",
   "metadata": {},
   "outputs": [],
   "source": [
    "fred = Fred(api_key=fred_key)"
   ]
  },
  {
   "cell_type": "code",
   "execution_count": 3,
   "id": "7bbd0427",
   "metadata": {},
   "outputs": [],
   "source": [
    "gsp_df = fred.search('gross domestic product all industry', filter=('frequency', 'Quarterly'))\n",
    "gsp_df = gsp_df.query('seasonal_adjustment_short == \"SAAR\"  and units == \"Millions of Dollars\"')\n",
    "gsp_df = gsp_df.loc[gsp_df['title'].str.contains('Gross Domestic Product: All Industry Total in')]"
   ]
  },
  {
   "cell_type": "code",
   "execution_count": 4,
   "id": "0158699d",
   "metadata": {},
   "outputs": [],
   "source": [
    "all_results = []\n",
    "\n",
    "for myid in gsp_df.index:\n",
    "    results = fred.get_series(myid)\n",
    "    results = results.to_frame(name=myid)\n",
    "    all_results.append(results)\n",
    "    time.sleep(0.1)\n",
    "gsp_results = pd.concat(all_results, axis=1)"
   ]
  },
  {
   "cell_type": "code",
   "execution_count": 5,
   "id": "289f3511",
   "metadata": {},
   "outputs": [
    {
     "name": "stdout",
     "output_type": "stream",
     "text": [
      "              CANQGSP    NYNQGSP    FLNQGSP    TXNQGSP   WANQGSP   CONQGSP  \\\n",
      "2005-01-01  1657292.4   992854.3   690088.7   968505.2  287547.6  216841.7   \n",
      "2005-04-01  1680340.0  1007577.9   698709.0   975780.1  292316.2  219446.3   \n",
      "2005-07-01  1715935.1  1023170.7   715915.7  1001395.2  293460.5  223217.9   \n",
      "2005-10-01  1740674.1  1040547.3   718694.0  1035329.3  301379.6  223629.0   \n",
      "2006-01-01  1789641.0  1065797.0   736349.4  1071297.6  307950.6  229764.1   \n",
      "...               ...        ...        ...        ...       ...       ...   \n",
      "2021-04-01  3331416.0  1877356.0  1238614.2  2014190.1  674363.5  429887.0   \n",
      "2021-07-01  3416146.0  1923471.8  1273980.2  2079874.7  681364.2  440203.6   \n",
      "2021-10-01  3520134.9  1986679.6  1325296.9  2180243.2  701316.8  458818.9   \n",
      "2022-01-01  3497723.7  2008813.4  1344330.4  2247573.3  705408.5  471814.2   \n",
      "2022-04-01  3558511.9  2034912.3  1371467.9  2354455.1  717336.2  480828.3   \n",
      "\n",
      "             LANQGSP   MINQGSP   GANQGSP   OHNQGSP  ...  NENGNQGSP   NHNQGSP  \\\n",
      "2005-01-01  192506.0  398881.4  383249.1  460649.0  ...   707483.9   56222.1   \n",
      "2005-04-01  198324.1  401052.9  386956.2  466001.7  ...   714199.2   56782.3   \n",
      "2005-07-01  201444.2  399824.6  390482.4  472983.6  ...   722993.3   57276.7   \n",
      "2005-10-01  206104.5  401316.5  397463.0  475932.2  ...   732210.2   57529.5   \n",
      "2006-01-01  205690.8  399424.0  399028.2  477147.4  ...   748089.9   58644.2   \n",
      "...              ...       ...       ...       ...  ...        ...       ...   \n",
      "2021-04-01  256704.8  572086.5  687424.7  748376.8  ...  1210096.4   99145.2   \n",
      "2021-07-01  263244.1  578360.6  698415.1  762918.5  ...  1234412.8  100842.9   \n",
      "2021-10-01  271809.7  589925.0  718572.4  790445.9  ...  1268730.4  105479.1   \n",
      "2022-01-01  272699.1  605464.0  734843.1  802978.4  ...  1286078.0  103235.1   \n",
      "2022-04-01  281047.1  615407.9  747535.2  817626.8  ...  1295723.4  104172.5   \n",
      "\n",
      "            SESTNQGSP     USNQGSP  GLAKNQGSP  RKMTNQGSP  SWSTNQGSP  FWSTNQGSP  \\\n",
      "2005-01-01  2853346.4  12767286.0  1909304.0   412099.9  1383171.7  2292138.1   \n",
      "2005-04-01  2890637.4  12922656.0  1926029.3   418713.6  1398593.5  2327173.7   \n",
      "2005-07-01  2940796.8  13142642.0  1946990.5   427837.6  1433651.3  2369349.1   \n",
      "2005-10-01  2980209.0  13324204.0  1955435.3   434283.9  1473229.1  2409884.6   \n",
      "2006-01-01  3036110.2  13599160.0  1981517.3   446118.7  1529583.1  2474439.6   \n",
      "...               ...         ...        ...        ...        ...        ...   \n",
      "2021-04-01  4964412.1  23046934.0  3030265.9   844603.8  2747841.6  4612612.7   \n",
      "2021-07-01  5074108.5  23550420.0  3080554.2   864339.3  2830237.9  4721738.5   \n",
      "2021-10-01  5251259.6  24349121.0  3178217.2   903107.6  2965040.7  4868069.2   \n",
      "2022-01-01  5352881.4  24740480.0  3255114.0   927214.4  3043846.4  4857960.7   \n",
      "2022-04-01  5461186.8  25248476.0  3308326.1   947898.0  3172718.8  4944817.9   \n",
      "\n",
      "            PLNSNQGSP  MESTNQGSP  \n",
      "2005-01-01   820181.1  2310721.3  \n",
      "2005-04-01   827330.6  2341484.3  \n",
      "2005-07-01   840023.1  2381194.5  \n",
      "2005-10-01   841788.7  2417107.1  \n",
      "2006-01-01   855597.0  2445645.0  \n",
      "...               ...        ...  \n",
      "2021-04-01  1448309.7  4054591.9  \n",
      "2021-07-01  1461803.1  4144854.4  \n",
      "2021-10-01  1494608.6  4278269.3  \n",
      "2022-01-01  1537981.1  4336992.2  \n",
      "2022-04-01  1571795.4  4401026.6  \n",
      "\n",
      "[70 rows x 60 columns]\n"
     ]
    }
   ],
   "source": [
    "print(gsp_results)"
   ]
  },
  {
   "cell_type": "code",
   "execution_count": 12,
   "id": "f32d88f3",
   "metadata": {
    "scrolled": true
   },
   "outputs": [
    {
     "ename": "KeyError",
     "evalue": "'Gross Domestic Product: All Industry Total in California'",
     "output_type": "error",
     "traceback": [
      "\u001b[1;31m---------------------------------------------------------------------------\u001b[0m",
      "\u001b[1;31mKeyError\u001b[0m                                  Traceback (most recent call last)",
      "\u001b[1;32m~\\AppData\\Local\\Temp/ipykernel_32048/2279940772.py\u001b[0m in \u001b[0;36m<module>\u001b[1;34m\u001b[0m\n\u001b[0;32m      1\u001b[0m \u001b[0mid_to_state\u001b[0m \u001b[1;33m=\u001b[0m \u001b[0mgsp_df\u001b[0m\u001b[1;33m[\u001b[0m\u001b[1;34m'title'\u001b[0m\u001b[1;33m]\u001b[0m\u001b[1;33m.\u001b[0m\u001b[0mstr\u001b[0m\u001b[1;33m.\u001b[0m\u001b[0mreplace\u001b[0m\u001b[1;33m(\u001b[0m\u001b[1;34m'Gross Domestic Product: All Industry Total in'\u001b[0m\u001b[1;33m,\u001b[0m\u001b[1;34m''\u001b[0m\u001b[1;33m)\u001b[0m\u001b[1;33m.\u001b[0m\u001b[0mto_dict\u001b[0m\u001b[1;33m(\u001b[0m\u001b[1;33m)\u001b[0m\u001b[1;33m\u001b[0m\u001b[1;33m\u001b[0m\u001b[0m\n\u001b[1;32m----> 2\u001b[1;33m \u001b[0mgsp_results\u001b[0m\u001b[1;33m.\u001b[0m\u001b[0mcolumns\u001b[0m \u001b[1;33m=\u001b[0m \u001b[1;33m[\u001b[0m\u001b[0mid_to_state\u001b[0m\u001b[1;33m[\u001b[0m\u001b[0mc\u001b[0m\u001b[1;33m]\u001b[0m \u001b[1;32mfor\u001b[0m \u001b[0mc\u001b[0m \u001b[1;32min\u001b[0m \u001b[0mgsp_results\u001b[0m\u001b[1;33m.\u001b[0m\u001b[0mcolumns\u001b[0m\u001b[1;33m]\u001b[0m\u001b[1;33m\u001b[0m\u001b[1;33m\u001b[0m\u001b[0m\n\u001b[0m",
      "\u001b[1;32m~\\AppData\\Local\\Temp/ipykernel_32048/2279940772.py\u001b[0m in \u001b[0;36m<listcomp>\u001b[1;34m(.0)\u001b[0m\n\u001b[0;32m      1\u001b[0m \u001b[0mid_to_state\u001b[0m \u001b[1;33m=\u001b[0m \u001b[0mgsp_df\u001b[0m\u001b[1;33m[\u001b[0m\u001b[1;34m'title'\u001b[0m\u001b[1;33m]\u001b[0m\u001b[1;33m.\u001b[0m\u001b[0mstr\u001b[0m\u001b[1;33m.\u001b[0m\u001b[0mreplace\u001b[0m\u001b[1;33m(\u001b[0m\u001b[1;34m'Gross Domestic Product: All Industry Total in'\u001b[0m\u001b[1;33m,\u001b[0m\u001b[1;34m''\u001b[0m\u001b[1;33m)\u001b[0m\u001b[1;33m.\u001b[0m\u001b[0mto_dict\u001b[0m\u001b[1;33m(\u001b[0m\u001b[1;33m)\u001b[0m\u001b[1;33m\u001b[0m\u001b[1;33m\u001b[0m\u001b[0m\n\u001b[1;32m----> 2\u001b[1;33m \u001b[0mgsp_results\u001b[0m\u001b[1;33m.\u001b[0m\u001b[0mcolumns\u001b[0m \u001b[1;33m=\u001b[0m \u001b[1;33m[\u001b[0m\u001b[0mid_to_state\u001b[0m\u001b[1;33m[\u001b[0m\u001b[0mc\u001b[0m\u001b[1;33m]\u001b[0m \u001b[1;32mfor\u001b[0m \u001b[0mc\u001b[0m \u001b[1;32min\u001b[0m \u001b[0mgsp_results\u001b[0m\u001b[1;33m.\u001b[0m\u001b[0mcolumns\u001b[0m\u001b[1;33m]\u001b[0m\u001b[1;33m\u001b[0m\u001b[1;33m\u001b[0m\u001b[0m\n\u001b[0m",
      "\u001b[1;31mKeyError\u001b[0m: 'Gross Domestic Product: All Industry Total in California'"
     ]
    }
   ],
   "source": [
    "id_to_state = gsp_df['title'].str.replace('Gross Domestic Product: All Industry Total in','').to_dict()\n",
    "gsp_results.columns = [id_to_state[c] for c in gsp_results.columns]"
   ]
  },
  {
   "cell_type": "code",
   "execution_count": 13,
   "id": "3b057efe",
   "metadata": {},
   "outputs": [],
   "source": [
    "df = gsp_results\n",
    "df.to_csv('FREDdata3.csv')"
   ]
  },
  {
   "cell_type": "code",
   "execution_count": null,
   "id": "500be5b4",
   "metadata": {},
   "outputs": [],
   "source": []
  }
 ],
 "metadata": {
  "kernelspec": {
   "display_name": "Python 3.9.13 ('myenv')",
   "language": "python",
   "name": "python3"
  },
  "language_info": {
   "codemirror_mode": {
    "name": "ipython",
    "version": 3
   },
   "file_extension": ".py",
   "mimetype": "text/x-python",
   "name": "python",
   "nbconvert_exporter": "python",
   "pygments_lexer": "ipython3",
   "version": "3.9.13"
  },
  "vscode": {
   "interpreter": {
    "hash": "73288583a8caa9ac9ea995559fc2566a8417576c8e5025ba55abfc472e14e935"
   }
  }
 },
 "nbformat": 4,
 "nbformat_minor": 5
}
