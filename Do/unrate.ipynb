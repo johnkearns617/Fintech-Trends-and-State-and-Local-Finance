{
 "cells": [
  {
   "cell_type": "code",
   "execution_count": 1,
   "id": "ad89c721",
   "metadata": {},
   "outputs": [],
   "source": [
    "import pandas as pd\n",
    "import numpy as np\n",
    "import matplotlib.pyplot as plt\n",
    "import time\n",
    "\n",
    "from fredapi import Fred\n",
    "fred_key = '170531604ba9e3b805b9635fbd6aa9b7'"
   ]
  },
  {
   "cell_type": "code",
   "execution_count": 2,
   "id": "7d1e6a89",
   "metadata": {},
   "outputs": [],
   "source": [
    "fred = Fred(api_key=fred_key)"
   ]
  },
  {
   "cell_type": "code",
   "execution_count": 3,
   "id": "40efb48b",
   "metadata": {},
   "outputs": [
    {
     "data": {
      "text/plain": [
       "(59, 15)"
      ]
     },
     "execution_count": 3,
     "metadata": {},
     "output_type": "execute_result"
    }
   ],
   "source": [
    "unrate_df = fred.search('unemployment rate state', filter=('frequency', 'Monthly'))\n",
    "unrate_df = unrate_df.query('seasonal_adjustment == \"Seasonally Adjusted\" and units == \"Percent\"')\n",
    "unrate_df = unrate_df.loc[unrate_df['title'].str.contains('Unemployment Rate in')]\n",
    "unrate_df.shape\n",
    "#unrate_df = unrate_df.loc[unrate_df['series id'].str.contains('UR')]"
   ]
  },
  {
   "cell_type": "code",
   "execution_count": 4,
   "id": "de30b49b",
   "metadata": {},
   "outputs": [],
   "source": [
    "all_results = []\n",
    "\n",
    "for myid in unrate_df.index:\n",
    "    results = fred.get_series(myid)\n",
    "    results = results.to_frame(name=myid)\n",
    "    all_results.append(results)\n",
    "    time.sleep(0.1)\n",
    "unrate_results = pd.concat(all_results, axis=1)"
   ]
  },
  {
   "cell_type": "code",
   "execution_count": 5,
   "id": "a960189c",
   "metadata": {},
   "outputs": [],
   "source": [
    "id_to_state = unrate_df['title'].str.replace('Unemployment Rate in ','').to_dict()\n",
    "unrate_results.columns = [id_to_state[c] for c in unrate_results.columns]\n",
    "#unrate_results = unrate_results.drop([\"Northeast Census Region\", \"Midwest Census Region\"], axis = 1)"
   ]
  },
  {
   "cell_type": "code",
   "execution_count": 6,
   "id": "f5418f08",
   "metadata": {},
   "outputs": [
    {
     "data": {
      "text/plain": [
       "<bound method NDFrame.head of             California  Texas  New York  Florida  Ohio  Michigan  \\\n",
       "1976-01-01         9.2    5.8      10.3      9.7   8.1       9.9   \n",
       "1976-02-01         9.2    5.8      10.3      9.7   8.1       9.9   \n",
       "1976-03-01         9.1    5.9      10.2      9.6   8.1       9.9   \n",
       "1976-04-01         9.1    5.9      10.2      9.5   8.0       9.8   \n",
       "1976-05-01         9.0    5.9      10.1      9.3   7.8       9.6   \n",
       "...                ...    ...       ...      ...   ...       ...   \n",
       "2022-06-01         4.2    4.1       4.4      2.8   3.9       4.3   \n",
       "2022-07-01         3.9    4.0       4.3      2.7   3.9       4.2   \n",
       "2022-08-01         4.1    4.1       4.7      2.7   4.0       4.1   \n",
       "2022-09-01         3.8    4.0       4.3      2.5   4.0       4.1   \n",
       "2022-10-01         4.0    4.0       4.4      2.7   4.2       4.2   \n",
       "\n",
       "            Pennsylvania  Alabama  Minnesota  Arizona  ...  Rhode Island  \\\n",
       "1976-01-01           8.0      6.6        6.0     10.2  ...           7.8   \n",
       "1976-02-01           8.1      6.6        6.0     10.2  ...           7.8   \n",
       "1976-03-01           8.1      6.6        5.9     10.1  ...           7.7   \n",
       "1976-04-01           8.1      6.5        5.8     10.0  ...           7.7   \n",
       "1976-05-01           8.1      6.4        5.7      9.8  ...           7.7   \n",
       "...                  ...      ...        ...      ...  ...           ...   \n",
       "2022-06-01           4.5      2.6        1.8      3.3  ...           2.7   \n",
       "2022-07-01           4.3      2.6        1.8      3.3  ...           2.7   \n",
       "2022-08-01           4.2      2.6        1.9      3.5  ...           2.8   \n",
       "2022-09-01           4.1      2.6        2.0      3.7  ...           3.1   \n",
       "2022-10-01           4.0      2.7        2.1      3.9  ...           3.4   \n",
       "\n",
       "            Connecticut  the District of Columbia  Wyoming  New Hampshire  \\\n",
       "1976-01-01          9.8                       8.7      4.1            6.5   \n",
       "1976-02-01          9.8                       8.7      4.1            6.5   \n",
       "1976-03-01          9.8                       8.6      4.1            6.5   \n",
       "1976-04-01          9.6                       8.5      4.0            6.5   \n",
       "1976-05-01          9.4                       8.4      3.9            6.5   \n",
       "...                 ...                       ...      ...            ...   \n",
       "2022-06-01          4.0                       5.5      3.1            2.0   \n",
       "2022-07-01          3.7                       5.2      3.0            2.0   \n",
       "2022-08-01          4.1                       5.1      3.1            2.0   \n",
       "2022-09-01          4.0                       4.7      3.3            2.2   \n",
       "2022-10-01          4.3                       4.8      3.5            2.4   \n",
       "\n",
       "            Midwest Census Region  Northeast Census Region  \\\n",
       "1976-01-01                    6.8                      9.6   \n",
       "1976-02-01                    6.8                      9.6   \n",
       "1976-03-01                    6.8                      9.6   \n",
       "1976-04-01                    6.7                      9.5   \n",
       "1976-05-01                    6.6                      9.5   \n",
       "...                           ...                      ...   \n",
       "2022-06-01                    3.3                      4.1   \n",
       "2022-07-01                    3.3                      4.0   \n",
       "2022-08-01                    3.4                      4.1   \n",
       "2022-09-01                    3.4                      3.9   \n",
       "2022-10-01                    3.5                      3.9   \n",
       "\n",
       "            South Census Region  New England Census Division  \\\n",
       "1976-01-01                  6.9                          9.6   \n",
       "1976-02-01                  6.9                          9.6   \n",
       "1976-03-01                  6.9                          9.6   \n",
       "1976-04-01                  6.8                          9.4   \n",
       "1976-05-01                  6.7                          9.3   \n",
       "...                         ...                          ...   \n",
       "2022-06-01                  3.4                          3.5   \n",
       "2022-07-01                  3.4                          3.3   \n",
       "2022-08-01                  3.4                          3.4   \n",
       "2022-09-01                  3.3                          3.3   \n",
       "2022-10-01                  3.4                          3.4   \n",
       "\n",
       "            West Census Region  \n",
       "1976-01-01                 8.6  \n",
       "1976-02-01                 8.6  \n",
       "1976-03-01                 8.6  \n",
       "1976-04-01                 8.5  \n",
       "1976-05-01                 8.5  \n",
       "...                        ...  \n",
       "2022-06-01                 3.8  \n",
       "2022-07-01                 3.7  \n",
       "2022-08-01                 3.7  \n",
       "2022-09-01                 3.7  \n",
       "2022-10-01                 3.8  \n",
       "\n",
       "[562 rows x 59 columns]>"
      ]
     },
     "execution_count": 6,
     "metadata": {},
     "output_type": "execute_result"
    }
   ],
   "source": [
    "unrate_results.head"
   ]
  },
  {
   "cell_type": "code",
   "execution_count": 7,
   "id": "032a5ab3",
   "metadata": {},
   "outputs": [],
   "source": [
    "df = unrate_results\n",
    "df.to_csv('FREDdata2.csv')"
   ]
  },
  {
   "cell_type": "code",
   "execution_count": null,
   "id": "9d2970be",
   "metadata": {},
   "outputs": [],
   "source": []
  }
 ],
 "metadata": {
  "kernelspec": {
   "display_name": "Python 3 (ipykernel)",
   "language": "python",
   "name": "python3"
  },
  "language_info": {
   "codemirror_mode": {
    "name": "ipython",
    "version": 3
   },
   "file_extension": ".py",
   "mimetype": "text/x-python",
   "name": "python",
   "nbconvert_exporter": "python",
   "pygments_lexer": "ipython3",
   "version": "3.9.7"
  }
 },
 "nbformat": 4,
 "nbformat_minor": 5
}
