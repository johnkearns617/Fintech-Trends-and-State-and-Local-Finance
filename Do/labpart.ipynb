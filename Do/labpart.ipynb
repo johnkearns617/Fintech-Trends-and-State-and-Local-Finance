{
 "cells": [
  {
   "cell_type": "code",
   "execution_count": 1,
   "id": "49975ccd",
   "metadata": {},
   "outputs": [],
   "source": [
    "import pandas as pd\n",
    "import numpy as np\n",
    "import matplotlib.pyplot as plt\n",
    "import time\n",
    "\n",
    "from fredapi import Fred\n",
    "fred_key = '170531604ba9e3b805b9635fbd6aa9b7'"
   ]
  },
  {
   "cell_type": "code",
   "execution_count": 2,
   "id": "73f367be",
   "metadata": {},
   "outputs": [],
   "source": [
    "fred = Fred(api_key=fred_key)"
   ]
  },
  {
   "cell_type": "code",
   "execution_count": 11,
   "id": "7bbd0427",
   "metadata": {},
   "outputs": [
    {
     "name": "stdout",
     "output_type": "stream",
     "text": [
      "(51, 15)\n"
     ]
    }
   ],
   "source": [
    "labpart_df = fred.search('labor force participation', filter=('frequency', 'Monthly'))\n",
    "labpart_df = labpart_df.loc[labpart_df['title'].str.contains('Labor Force Participation Rate for')]\n",
    "labpart_df = labpart_df.query('seasonal_adjustment_short == \"NSA\"')\n",
    "print(labpart_df.shape)"
   ]
  },
  {
   "cell_type": "code",
   "execution_count": 12,
   "id": "0158699d",
   "metadata": {},
   "outputs": [],
   "source": [
    "all_results = []\n",
    "\n",
    "for myid in labpart_df.index:\n",
    "    results = fred.get_series(myid)\n",
    "    results = results.to_frame(name=myid)\n",
    "    all_results.append(results)\n",
    "    time.sleep(0.1)\n",
    "labpart_results = pd.concat(all_results, axis=1)"
   ]
  },
  {
   "cell_type": "code",
   "execution_count": 13,
   "id": "289f3511",
   "metadata": {},
   "outputs": [
    {
     "name": "stdout",
     "output_type": "stream",
     "text": [
      "            LBSNSA06  LBSNSA27  LBSNSA01  LBSNSA12  LBSNSA36  LBSNSA39  \\\n",
      "1976-01-01      61.9      64.3      55.9      54.6      57.6      60.6   \n",
      "1976-02-01      61.9      64.0      56.2      54.8      57.4      60.6   \n",
      "1976-03-01      61.7      64.5      56.1      54.6      57.6      61.0   \n",
      "1976-04-01      61.6      65.0      56.3      54.9      57.4      61.2   \n",
      "1976-05-01      61.6      65.2      56.3      54.9      57.1      61.3   \n",
      "...              ...       ...       ...       ...       ...       ...   \n",
      "2022-06-01      61.7      68.7      57.5      59.6      60.5      62.1   \n",
      "2022-07-01      62.1      68.5      57.7      59.6      60.7      62.5   \n",
      "2022-08-01      62.3      68.1      57.6      59.8      60.7      62.0   \n",
      "2022-09-01      62.3      67.9      57.1      60.0      60.3      61.3   \n",
      "2022-10-01      62.1      67.8      57.4      60.0      60.6      61.3   \n",
      "\n",
      "            LBSNSA48  LBSNSA55  LBSNSA21  LBSNSA26  ...  LBSNSA15  LBSNSA09  \\\n",
      "1976-01-01      62.6      64.4      59.5      60.3  ...      69.4      63.1   \n",
      "1976-02-01      62.5      65.0      59.3      60.7  ...      68.8      62.8   \n",
      "1976-03-01      63.0      64.5      59.7      60.9  ...      69.4      63.1   \n",
      "1976-04-01      62.9      64.6      59.7      60.9  ...      69.5      63.5   \n",
      "1976-05-01      62.9      64.7      60.0      61.4  ...      68.9      63.6   \n",
      "...              ...       ...       ...       ...  ...       ...       ...   \n",
      "2022-06-01      63.9      66.6      58.5      60.3  ...      60.1      65.2   \n",
      "2022-07-01      63.9      66.3      58.2      60.5  ...      60.6      65.4   \n",
      "2022-08-01      63.6      65.9      58.0      60.4  ...      61.1      64.7   \n",
      "2022-09-01      63.4      65.1      57.8      60.1  ...      60.7      64.5   \n",
      "2022-10-01      63.7      64.6      57.7      59.7  ...      60.8      64.2   \n",
      "\n",
      "            LBSNSA20  LBSNSA44  LBSNSA56  LBSNSA11  LBSNSA46  LBSNSA30  \\\n",
      "1976-01-01      64.2      63.6      63.3      63.9      62.7      61.4   \n",
      "1976-02-01      64.2      63.2      63.0      64.6      62.8      61.2   \n",
      "1976-03-01      64.4      62.7      63.7      64.2      63.5      61.2   \n",
      "1976-04-01      64.5      62.9      63.9      64.1      63.9      62.1   \n",
      "1976-05-01      64.3      62.6      64.3      63.0      64.7      62.0   \n",
      "...              ...       ...       ...       ...       ...       ...   \n",
      "2022-06-01      66.8      64.2      63.9      72.5      70.0      63.6   \n",
      "2022-07-01      66.7      64.2      63.5      73.9      69.7      63.5   \n",
      "2022-08-01      65.2      64.4      63.3      72.2      69.3      63.5   \n",
      "2022-09-01      66.0      64.4      63.7      71.6      68.5      62.6   \n",
      "2022-10-01      66.4      63.9      63.2      70.8      68.8      62.5   \n",
      "\n",
      "            LBSNSA10  LBSNSA38  \n",
      "1976-01-01      62.1      60.5  \n",
      "1976-02-01      61.8      60.8  \n",
      "1976-03-01      62.5      61.1  \n",
      "1976-04-01      62.4      61.8  \n",
      "1976-05-01      61.5      62.8  \n",
      "...              ...       ...  \n",
      "2022-06-01      61.3      70.1  \n",
      "2022-07-01      61.4      69.9  \n",
      "2022-08-01      61.0      69.8  \n",
      "2022-09-01      60.3      68.9  \n",
      "2022-10-01      60.5      68.7  \n",
      "\n",
      "[562 rows x 51 columns]\n"
     ]
    }
   ],
   "source": [
    "print(labpart_results)"
   ]
  },
  {
   "cell_type": "code",
   "execution_count": 15,
   "id": "3b057efe",
   "metadata": {
    "scrolled": true
   },
   "outputs": [],
   "source": [
    "id_to_state = labpart_df['title'].str.replace('Labor Force Participation Rate for','').to_dict()\n",
    "labpart_results.columns = [id_to_state[c] for c in labpart_results.columns]"
   ]
  },
  {
   "cell_type": "code",
   "execution_count": 17,
   "id": "c3a0096f",
   "metadata": {},
   "outputs": [
    {
     "name": "stdout",
     "output_type": "stream",
     "text": [
      "<bound method NDFrame.head of              California   Minnesota   Alabama   Florida   New York   Ohio  \\\n",
      "1976-01-01         61.9        64.3      55.9      54.6       57.6   60.6   \n",
      "1976-02-01         61.9        64.0      56.2      54.8       57.4   60.6   \n",
      "1976-03-01         61.7        64.5      56.1      54.6       57.6   61.0   \n",
      "1976-04-01         61.6        65.0      56.3      54.9       57.4   61.2   \n",
      "1976-05-01         61.6        65.2      56.3      54.9       57.1   61.3   \n",
      "...                 ...         ...       ...       ...        ...    ...   \n",
      "2022-06-01         61.7        68.7      57.5      59.6       60.5   62.1   \n",
      "2022-07-01         62.1        68.5      57.7      59.6       60.7   62.5   \n",
      "2022-08-01         62.3        68.1      57.6      59.8       60.7   62.0   \n",
      "2022-09-01         62.3        67.9      57.1      60.0       60.3   61.3   \n",
      "2022-10-01         62.1        67.8      57.4      60.0       60.6   61.3   \n",
      "\n",
      "             Texas   Wisconsin   Kentucky   Michigan  ...   Hawaii  \\\n",
      "1976-01-01    62.6        64.4       59.5       60.3  ...     69.4   \n",
      "1976-02-01    62.5        65.0       59.3       60.7  ...     68.8   \n",
      "1976-03-01    63.0        64.5       59.7       60.9  ...     69.4   \n",
      "1976-04-01    62.9        64.6       59.7       60.9  ...     69.5   \n",
      "1976-05-01    62.9        64.7       60.0       61.4  ...     68.9   \n",
      "...            ...         ...        ...        ...  ...      ...   \n",
      "2022-06-01    63.9        66.6       58.5       60.3  ...     60.1   \n",
      "2022-07-01    63.9        66.3       58.2       60.5  ...     60.6   \n",
      "2022-08-01    63.6        65.9       58.0       60.4  ...     61.1   \n",
      "2022-09-01    63.4        65.1       57.8       60.1  ...     60.7   \n",
      "2022-10-01    63.7        64.6       57.7       59.7  ...     60.8   \n",
      "\n",
      "             Connecticut   Kansas   Rhode Island   Wyoming  \\\n",
      "1976-01-01          63.1     64.2           63.6      63.3   \n",
      "1976-02-01          62.8     64.2           63.2      63.0   \n",
      "1976-03-01          63.1     64.4           62.7      63.7   \n",
      "1976-04-01          63.5     64.5           62.9      63.9   \n",
      "1976-05-01          63.6     64.3           62.6      64.3   \n",
      "...                  ...      ...            ...       ...   \n",
      "2022-06-01          65.2     66.8           64.2      63.9   \n",
      "2022-07-01          65.4     66.7           64.2      63.5   \n",
      "2022-08-01          64.7     65.2           64.4      63.3   \n",
      "2022-09-01          64.5     66.0           64.4      63.7   \n",
      "2022-10-01          64.2     66.4           63.9      63.2   \n",
      "\n",
      "             District Of Columbia   South Dakota   Montana   Delaware  \\\n",
      "1976-01-01                   63.9           62.7      61.4       62.1   \n",
      "1976-02-01                   64.6           62.8      61.2       61.8   \n",
      "1976-03-01                   64.2           63.5      61.2       62.5   \n",
      "1976-04-01                   64.1           63.9      62.1       62.4   \n",
      "1976-05-01                   63.0           64.7      62.0       61.5   \n",
      "...                           ...            ...       ...        ...   \n",
      "2022-06-01                   72.5           70.0      63.6       61.3   \n",
      "2022-07-01                   73.9           69.7      63.5       61.4   \n",
      "2022-08-01                   72.2           69.3      63.5       61.0   \n",
      "2022-09-01                   71.6           68.5      62.6       60.3   \n",
      "2022-10-01                   70.8           68.8      62.5       60.5   \n",
      "\n",
      "             North Dakota  \n",
      "1976-01-01           60.5  \n",
      "1976-02-01           60.8  \n",
      "1976-03-01           61.1  \n",
      "1976-04-01           61.8  \n",
      "1976-05-01           62.8  \n",
      "...                   ...  \n",
      "2022-06-01           70.1  \n",
      "2022-07-01           69.9  \n",
      "2022-08-01           69.8  \n",
      "2022-09-01           68.9  \n",
      "2022-10-01           68.7  \n",
      "\n",
      "[562 rows x 51 columns]>\n"
     ]
    }
   ],
   "source": [
    "print(labpart_results.head)"
   ]
  },
  {
   "cell_type": "code",
   "execution_count": 18,
   "id": "415eb1e3",
   "metadata": {},
   "outputs": [],
   "source": [
    "df = labpart_results\n",
    "df.to_csv('FREDdata4.csv')"
   ]
  },
  {
   "cell_type": "code",
   "execution_count": null,
   "id": "82187dec",
   "metadata": {},
   "outputs": [],
   "source": []
  }
 ],
 "metadata": {
  "kernelspec": {
   "display_name": "Python 3 (ipykernel)",
   "language": "python",
   "name": "python3"
  },
  "language_info": {
   "codemirror_mode": {
    "name": "ipython",
    "version": 3
   },
   "file_extension": ".py",
   "mimetype": "text/x-python",
   "name": "python",
   "nbconvert_exporter": "python",
   "pygments_lexer": "ipython3",
   "version": "3.9.7"
  }
 },
 "nbformat": 4,
 "nbformat_minor": 5
}
