{
 "cells": [
  {
   "cell_type": "code",
   "execution_count": 1,
   "id": "89606db3",
   "metadata": {},
   "outputs": [],
   "source": [
    "import pandas as pd\n",
    "import numpy as np\n",
    "import matplotlib.pyplot as plt\n",
    "import time\n",
    "\n",
    "from fredapi import Fred\n",
    "fred_key = '170531604ba9e3b805b9635fbd6aa9b7'"
   ]
  },
  {
   "cell_type": "code",
   "execution_count": 2,
   "id": "1e6900b8",
   "metadata": {},
   "outputs": [],
   "source": [
    "fred = Fred(api_key=fred_key)"
   ]
  },
  {
   "cell_type": "code",
   "execution_count": 3,
   "id": "90834c99",
   "metadata": {},
   "outputs": [],
   "source": [
    "insunemp_df = fred.search('unemployment rate state', filter=('frequency', 'Weekly'))\n",
    "insunemp_df = insunemp_df.query('seasonal_adjustment == \"Not Seasonally Adjusted\" and units == \"Percent\"')\n",
    "insunemp_df = insunemp_df.loc[insunemp_df['title'].str.contains('Insured Unemployment Rate')]"
   ]
  },
  {
   "cell_type": "code",
   "execution_count": 4,
   "id": "4eda4192",
   "metadata": {},
   "outputs": [],
   "source": [
    "all_results = []\n",
    "\n",
    "for myid in insunemp_df.index:\n",
    "    results = fred.get_series(myid)\n",
    "    results = results.to_frame(name=myid)\n",
    "    all_results.append(results)\n",
    "    time.sleep(0.1)\n",
    "insunemp_results = pd.concat(all_results, axis=1)"
   ]
  },
  {
   "cell_type": "code",
   "execution_count": 5,
   "id": "69af381f",
   "metadata": {},
   "outputs": [],
   "source": [
    "id_to_state = insunemp_df['title'].str.replace('Insured Unemployment Rate in ','').to_dict()\n",
    "insunemp_results.columns = [id_to_state[c] for c in insunemp_results.columns]"
   ]
  },
  {
   "cell_type": "code",
   "execution_count": 6,
   "id": "68f0d8e0",
   "metadata": {},
   "outputs": [],
   "source": [
    "df = insunemp_results\n",
    "df.to_csv('FREDdata.csv')"
   ]
  },
  {
   "cell_type": "code",
   "execution_count": 7,
   "id": "c1be67e0",
   "metadata": {},
   "outputs": [],
   "source": [
    "#ls - la"
   ]
  },
  {
   "cell_type": "code",
   "execution_count": 8,
   "id": "d1c9c210",
   "metadata": {},
   "outputs": [],
   "source": [
    "#print[insunemp_results.head]"
   ]
  },
  {
   "cell_type": "code",
   "execution_count": null,
   "id": "58097a7a",
   "metadata": {},
   "outputs": [],
   "source": []
  }
 ],
 "metadata": {
  "kernelspec": {
   "display_name": "Python 3 (ipykernel)",
   "language": "python",
   "name": "python3"
  },
  "language_info": {
   "codemirror_mode": {
    "name": "ipython",
    "version": 3
   },
   "file_extension": ".py",
   "mimetype": "text/x-python",
   "name": "python",
   "nbconvert_exporter": "python",
   "pygments_lexer": "ipython3",
   "version": "3.9.7"
  }
 },
 "nbformat": 4,
 "nbformat_minor": 5
}
