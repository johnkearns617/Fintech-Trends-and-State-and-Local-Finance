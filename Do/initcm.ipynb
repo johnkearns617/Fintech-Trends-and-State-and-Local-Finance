{
 "cells": [
  {
   "cell_type": "code",
   "execution_count": 1,
   "id": "49975ccd",
   "metadata": {},
   "outputs": [],
   "source": [
    "import pandas as pd\n",
    "import numpy as np\n",
    "import matplotlib.pyplot as plt\n",
    "import time\n",
    "\n",
    "from fredapi import Fred\n",
    "fred_key = '170531604ba9e3b805b9635fbd6aa9b7'"
   ]
  },
  {
   "cell_type": "code",
   "execution_count": 2,
   "id": "73f367be",
   "metadata": {},
   "outputs": [],
   "source": [
    "fred = Fred(api_key=fred_key)"
   ]
  },
  {
   "cell_type": "code",
   "execution_count": 8,
   "id": "7bbd0427",
   "metadata": {},
   "outputs": [
    {
     "name": "stdout",
     "output_type": "stream",
     "text": [
      "(53, 15)\n"
     ]
    }
   ],
   "source": [
    "initcm_df = fred.search('pandemic initial claims', filter=('frequency', 'Weekly'))\n",
    "initcm_df = initcm_df.loc[initcm_df['title'].str.contains('Pandemic Unemployment Assistance Initial Claim')]\n",
    "print(initcm_df.shape)"
   ]
  },
  {
   "cell_type": "code",
   "execution_count": 9,
   "id": "0158699d",
   "metadata": {},
   "outputs": [],
   "source": [
    "all_results = []\n",
    "\n",
    "for myid in initcm_df.index:\n",
    "    results = fred.get_series(myid)\n",
    "    results = results.to_frame(name=myid)\n",
    "    all_results.append(results)\n",
    "    time.sleep(0.1)\n",
    "initcm_results = pd.concat(all_results, axis=1)"
   ]
  },
  {
   "cell_type": "code",
   "execution_count": 10,
   "id": "289f3511",
   "metadata": {},
   "outputs": [
    {
     "name": "stdout",
     "output_type": "stream",
     "text": [
      "            PUAICOK  PUAICIN   PUAICCA  PUAICKY  PUAICMO  PUAICPR  PUAICWV  \\\n",
      "2020-04-04    129.0      0.0       0.0      0.0      0.0      0.0      0.0   \n",
      "2020-04-11    167.0      0.0       0.0      0.0      0.0      0.0      0.0   \n",
      "2020-04-18    101.0      0.0       0.0      0.0      0.0      0.0      0.0   \n",
      "2020-04-25     93.0      0.0       0.0      0.0  36667.0      0.0      0.0   \n",
      "2020-05-02   1990.0      0.0  297738.0      0.0  17784.0      0.0      0.0   \n",
      "...             ...      ...       ...      ...      ...      ...      ...   \n",
      "2022-10-08      0.0      6.0      19.0    212.0      2.0      0.0      0.0   \n",
      "2022-10-15      0.0      6.0      31.0    187.0      4.0      0.0      0.0   \n",
      "2022-10-22      0.0     13.0      26.0    228.0      4.0      1.0      0.0   \n",
      "2022-10-29      0.0      9.0      27.0    219.0      3.0      0.0      0.0   \n",
      "2022-11-05      0.0      6.0      10.0    117.0      1.0      1.0      0.0   \n",
      "\n",
      "             PUAICWA  PUAICNC  PUAICAR  ...  PUAICPA  PUAICDE  PUAICMD  \\\n",
      "2020-04-04       0.0      0.0      0.0  ...      0.0      0.0      0.0   \n",
      "2020-04-11       0.0      0.0      0.0  ...      0.0      0.0      0.0   \n",
      "2020-04-18    4083.0      0.0      0.0  ...  37600.0      0.0      0.0   \n",
      "2020-04-25  190009.0  54609.0      0.0  ...  63788.0      0.0      0.0   \n",
      "2020-05-02   66652.0  89951.0   3746.0  ...  43889.0      0.0  44280.0   \n",
      "...              ...      ...      ...  ...      ...      ...      ...   \n",
      "2022-10-08       1.0      1.0      0.0  ...      0.0      2.0      0.0   \n",
      "2022-10-15       4.0      0.0      0.0  ...      2.0      1.0      0.0   \n",
      "2022-10-22       5.0      0.0      0.0  ...      1.0      0.0      0.0   \n",
      "2022-10-29       3.0      2.0      1.0  ...      2.0      0.0      0.0   \n",
      "2022-11-05       1.0      0.0      0.0  ...      0.0      0.0      0.0   \n",
      "\n",
      "            PUAICTN   PUAICMA  PUAICSD  PUAICVT  PUAICNJ  PUAICID  PUAICDC  \n",
      "2020-04-04      0.0       0.0      0.0      0.0      0.0  15106.0      0.0  \n",
      "2020-04-11      0.0       0.0      0.0      0.0      0.0   8930.0      0.0  \n",
      "2020-04-18      0.0       0.0      0.0      0.0  44300.0   6117.0      0.0  \n",
      "2020-04-25      0.0  115960.0      0.0      0.0      0.0   3778.0      0.0  \n",
      "2020-05-02  10617.0   68826.0     99.0      0.0  76100.0   2786.0      0.0  \n",
      "...             ...       ...      ...      ...      ...      ...      ...  \n",
      "2022-10-08      1.0       0.0      0.0      0.0      3.0      0.0      7.0  \n",
      "2022-10-15      1.0       0.0      0.0      0.0      1.0      0.0     10.0  \n",
      "2022-10-22      1.0       0.0      0.0      0.0      7.0      0.0      8.0  \n",
      "2022-10-29      2.0       0.0      0.0      0.0      2.0      0.0      0.0  \n",
      "2022-11-05      3.0       0.0      0.0      0.0      1.0      2.0      7.0  \n",
      "\n",
      "[136 rows x 53 columns]\n"
     ]
    }
   ],
   "source": [
    "print(initcm_results)"
   ]
  },
  {
   "cell_type": "code",
   "execution_count": 12,
   "id": "3b057efe",
   "metadata": {},
   "outputs": [],
   "source": [
    "id_to_state = initcm_df['title'].str.replace('Pandemic Unemployment Assistance Initial Claims in','').to_dict()\n",
    "initcm_results.columns = [id_to_state[c] for c in initcm_results.columns]"
   ]
  },
  {
   "cell_type": "code",
   "execution_count": 13,
   "id": "4d116841",
   "metadata": {},
   "outputs": [
    {
     "name": "stdout",
     "output_type": "stream",
     "text": [
      "             Oklahoma   Indiana   California   Kentucky   Missouri  \\\n",
      "2020-04-04      129.0       0.0          0.0        0.0        0.0   \n",
      "2020-04-11      167.0       0.0          0.0        0.0        0.0   \n",
      "2020-04-18      101.0       0.0          0.0        0.0        0.0   \n",
      "2020-04-25       93.0       0.0          0.0        0.0    36667.0   \n",
      "2020-05-02     1990.0       0.0     297738.0        0.0    17784.0   \n",
      "...               ...       ...          ...        ...        ...   \n",
      "2022-10-08        0.0       6.0         19.0      212.0        2.0   \n",
      "2022-10-15        0.0       6.0         31.0      187.0        4.0   \n",
      "2022-10-22        0.0      13.0         26.0      228.0        4.0   \n",
      "2022-10-29        0.0       9.0         27.0      219.0        3.0   \n",
      "2022-11-05        0.0       6.0         10.0      117.0        1.0   \n",
      "\n",
      "             Puerto Rico   West Virginia   Washington   North Carolina  \\\n",
      "2020-04-04           0.0             0.0          0.0              0.0   \n",
      "2020-04-11           0.0             0.0          0.0              0.0   \n",
      "2020-04-18           0.0             0.0       4083.0              0.0   \n",
      "2020-04-25           0.0             0.0     190009.0          54609.0   \n",
      "2020-05-02           0.0             0.0      66652.0          89951.0   \n",
      "...                  ...             ...          ...              ...   \n",
      "2022-10-08           0.0             0.0          1.0              1.0   \n",
      "2022-10-15           0.0             0.0          4.0              0.0   \n",
      "2022-10-22           1.0             0.0          5.0              0.0   \n",
      "2022-10-29           0.0             0.0          3.0              2.0   \n",
      "2022-11-05           1.0             0.0          1.0              0.0   \n",
      "\n",
      "             Arkansas  ...   Pennsylvania   Delaware   Maryland   Tennessee  \\\n",
      "2020-04-04        0.0  ...            0.0        0.0        0.0         0.0   \n",
      "2020-04-11        0.0  ...            0.0        0.0        0.0         0.0   \n",
      "2020-04-18        0.0  ...        37600.0        0.0        0.0         0.0   \n",
      "2020-04-25        0.0  ...        63788.0        0.0        0.0         0.0   \n",
      "2020-05-02     3746.0  ...        43889.0        0.0    44280.0     10617.0   \n",
      "...               ...  ...            ...        ...        ...         ...   \n",
      "2022-10-08        0.0  ...            0.0        2.0        0.0         1.0   \n",
      "2022-10-15        0.0  ...            2.0        1.0        0.0         1.0   \n",
      "2022-10-22        0.0  ...            1.0        0.0        0.0         1.0   \n",
      "2022-10-29        1.0  ...            2.0        0.0        0.0         2.0   \n",
      "2022-11-05        0.0  ...            0.0        0.0        0.0         3.0   \n",
      "\n",
      "             Massachusetts   South Dakota   Vermont   New Jersey    Idaho  \\\n",
      "2020-04-04             0.0            0.0       0.0          0.0  15106.0   \n",
      "2020-04-11             0.0            0.0       0.0          0.0   8930.0   \n",
      "2020-04-18             0.0            0.0       0.0      44300.0   6117.0   \n",
      "2020-04-25        115960.0            0.0       0.0          0.0   3778.0   \n",
      "2020-05-02         68826.0           99.0       0.0      76100.0   2786.0   \n",
      "...                    ...            ...       ...          ...      ...   \n",
      "2022-10-08             0.0            0.0       0.0          3.0      0.0   \n",
      "2022-10-15             0.0            0.0       0.0          1.0      0.0   \n",
      "2022-10-22             0.0            0.0       0.0          7.0      0.0   \n",
      "2022-10-29             0.0            0.0       0.0          2.0      0.0   \n",
      "2022-11-05             0.0            0.0       0.0          1.0      2.0   \n",
      "\n",
      "             District of Columbia  \n",
      "2020-04-04                    0.0  \n",
      "2020-04-11                    0.0  \n",
      "2020-04-18                    0.0  \n",
      "2020-04-25                    0.0  \n",
      "2020-05-02                    0.0  \n",
      "...                           ...  \n",
      "2022-10-08                    7.0  \n",
      "2022-10-15                   10.0  \n",
      "2022-10-22                    8.0  \n",
      "2022-10-29                    0.0  \n",
      "2022-11-05                    7.0  \n",
      "\n",
      "[136 rows x 53 columns]\n"
     ]
    }
   ],
   "source": [
    "print(initcm_results)"
   ]
  },
  {
   "cell_type": "code",
   "execution_count": 14,
   "id": "34ee2721",
   "metadata": {},
   "outputs": [],
   "source": [
    "df = initcm_results\n",
    "df.to_csv('FREDdata1.csv')"
   ]
  },
  {
   "cell_type": "code",
   "execution_count": null,
   "id": "e4cda20b",
   "metadata": {},
   "outputs": [],
   "source": []
  }
 ],
 "metadata": {
  "kernelspec": {
   "display_name": "Python 3 (ipykernel)",
   "language": "python",
   "name": "python3"
  },
  "language_info": {
   "codemirror_mode": {
    "name": "ipython",
    "version": 3
   },
   "file_extension": ".py",
   "mimetype": "text/x-python",
   "name": "python",
   "nbconvert_exporter": "python",
   "pygments_lexer": "ipython3",
   "version": "3.9.7"
  }
 },
 "nbformat": 4,
 "nbformat_minor": 5
}
